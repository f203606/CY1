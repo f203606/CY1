{
 "cells": [
  {
   "cell_type": "code",
   "execution_count": 1,
   "id": "c1931d55",
   "metadata": {},
   "outputs": [
    {
     "name": "stdout",
     "output_type": "stream",
     "text": [
      "Qual o seu nome?André\n",
      "Bom dia, André! Meu nome é Maria.\n",
      "André: Qual seu filme favorito?\n",
      "Maria: Meu malvado favorito!\n",
      "\n",
      "André: Gostaria de fazer um elogio.\n",
      "Maria: Ok. Você está fazendo um(a) elogio\n",
      "André: bocó\n",
      "Maria: Não vem não! Me respeite!\n",
      "André: Tchau\n",
      "Maria: volte sempre!\n",
      "fim\n"
     ]
    }
   ],
   "source": [
    "#import import_ipynb \n",
    "#import importlib  # Por motivos de eficiência, cada módulo é importado apenas uma vez por sessão do interpretador. \n",
    "                  # Portanto, se você alterar seus módulos, reinicie o interpretador - ou, se for apenas um módulo \n",
    "                  # que deseja testar interativamente, use importlib.reload() para recarregar o módulo:\n",
    "import CY1_Aula_17_ChatbotBase_Desafio as pc\n",
    "\n",
    "nome_maquina = 'Maria'\n",
    "#importlib.reload(pc)\n",
    "nome_cliente = input('Qual o seu nome?')\n",
    "\n",
    "pc.saudacoes(nome_maquina, nome_cliente)\n",
    "while True:\n",
    "    texto = pc.recebeTexto(nome_maquina, nome_cliente)\n",
    "    resposta = pc.buscaResposta(nome_maquina, texto)\n",
    "    if pc.exibeResposta(resposta, nome_maquina) == 'fim':\n",
    "        break"
   ]
  }
 ],
 "metadata": {
  "kernelspec": {
   "display_name": "Python 3 (ipykernel)",
   "language": "python",
   "name": "python3"
  },
  "language_info": {
   "codemirror_mode": {
    "name": "ipython",
    "version": 3
   },
   "file_extension": ".py",
   "mimetype": "text/x-python",
   "name": "python",
   "nbconvert_exporter": "python",
   "pygments_lexer": "ipython3",
   "version": "3.11.5"
  }
 },
 "nbformat": 4,
 "nbformat_minor": 5
}
