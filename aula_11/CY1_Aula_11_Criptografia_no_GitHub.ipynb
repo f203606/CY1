{
 "cells": [
  {
   "cell_type": "markdown",
   "id": "8c3302d2",
   "metadata": {},
   "source": [
    "# Criptografia Básica - ROT13"
   ]
  },
  {
   "cell_type": "code",
   "execution_count": 4,
   "id": "bb4baa19",
   "metadata": {},
   "outputs": [
    {
     "name": "stdout",
     "output_type": "stream",
     "text": [
      "Uryyb, crbcyr!  Svanyvmnzbf n nhyn 10 qn pbzcrgvçãb qr cebtenznçãb pbz tenaqr raghfvnfzb, efef! Ab qvn 03/10, bf nyhabf qrireãb ragertne nf Ngvivqnqrf cnen pnfn.  Nyéz qvffb, bf nyhabf gnzoéz qrireãb snmre n Gnersn qr pnfn dhr pbafvfgr an pevnçãb qr hzn pbagn ab TvgUho r raivb qb hfreanzr ab pnzcb qr erfcbfgn qrageb qb cbegny.  Nf vafgehçõrf cbqrz fre rapbagenqnf ab zngrevny qb nyhab ( cbegny.pgeycynl.pbz.oe/ ).  Gunaxf! Cebsrffbe Naqeé.\n",
      "~~~~~~~~~~~~~~~~~~~~~~~~~~~~~~~~~~~~~~~~~~~~~~~~~~~~~~~~~~~~~~~~~~~~~~~~~~~~~~~~\n",
      "Aqui está a seu texto criptografado:\n",
      "~~~~~~~~~~~~~~~~~~~~~~~~~~~~~~~~~~~~~~~~~~~~~~~~~~~~~~~~~~~~~~~~~~~~~~~~~~~~~~~~\n",
      "Hello, people!  Finalizamos a aula 10 da competição de programação com grande entusiasmo, rsrs! No dia 03/10, os alunos deverão entregar as Atividades para casa.  Além disso, os alunos também deverão fazer a Tarefa de casa que consiste na criação de uma conta no GitHub e envio do username no campo de resposta dentro do portal.  As instruções podem ser encontradas no material do aluno ( portal.ctrlplay.com.br/ ).  Thanks! Professor André.\n"
     ]
    }
   ],
   "source": [
    "def rotacionar(letra, alfabeto):\n",
    "    posicao = alfabeto.find(letra)\n",
    "    return alfabeto[posicao - 13]\n",
    "\n",
    "def minuscula_Ou_Maiuscula(letra):\n",
    "    if letra in minusculas:\n",
    "        return rotacionar(letra, minusculas)\n",
    "\n",
    "    elif letra in maiusculas:\n",
    "        return rotacionar(letra, maiusculas)\n",
    "    \n",
    "    else:\n",
    "        return letra\n",
    "\n",
    "def criptografar(texto):\n",
    "    letra_criptografada=[]\n",
    "    for letra in texto:\n",
    "        letra_criptografada.append(minuscula_Ou_Maiuscula(letra))\n",
    "    texto_criptografado = ''.join(letra_criptografada)\n",
    "    return texto_criptografado\n",
    "        \n",
    "\n",
    "#Programa Principal\n",
    "minusculas = 'abcdefghijklmnopqrstuvwxyz'\n",
    "maiusculas = minusculas.upper()\n",
    "texto = input()\n",
    "print('~'*80)\n",
    "print('Aqui está a seu texto criptografado:')\n",
    "print('~'*80)\n",
    "print(criptografar(texto))\n"
   ]
  }
 ],
 "metadata": {
  "kernelspec": {
   "display_name": "Python 3 (ipykernel)",
   "language": "python",
   "name": "python3"
  },
  "language_info": {
   "codemirror_mode": {
    "name": "ipython",
    "version": 3
   },
   "file_extension": ".py",
   "mimetype": "text/x-python",
   "name": "python",
   "nbconvert_exporter": "python",
   "pygments_lexer": "ipython3",
   "version": "3.11.5"
  }
 },
 "nbformat": 4,
 "nbformat_minor": 5
}
