{
 "cells": [
  {
   "cell_type": "markdown",
   "id": "91e1d3ac",
   "metadata": {},
   "source": [
    "# Criptografia Básica - ROT13"
   ]
  },
  {
   "cell_type": "code",
   "execution_count": 5,
   "id": "cf7e7667",
   "metadata": {},
   "outputs": [
    {
     "name": "stdout",
     "output_type": "stream",
     "text": [
      "Bem-vindo à Ctrl+Play!\n",
      "~~~~~~~~~~~~~~~~~~~~~~~~~~~~~~~~~~~~~~~~~~~~~~~~~~~~~~~~~~~~~~~~~~~~~~~~~~~~~~~~\n",
      "Aqui está a seu texto criptografado:\n",
      "~~~~~~~~~~~~~~~~~~~~~~~~~~~~~~~~~~~~~~~~~~~~~~~~~~~~~~~~~~~~~~~~~~~~~~~~~~~~~~~~\n",
      "Orz-ivaqb à Pgey+Cynl!\n"
     ]
    }
   ],
   "source": [
    "def rotacionar(letra, alfabeto):\n",
    "    posicao = alfabeto.find(letra)\n",
    "    return alfabeto[posicao - 13]\n",
    "\n",
    "def minuscula_Ou_Maiuscula(letra):\n",
    "    if letra in minusculas:\n",
    "        return rotacionar(letra, minusculas)\n",
    "\n",
    "    elif letra in maiusculas:\n",
    "        return rotacionar(letra, maiusculas)\n",
    "    \n",
    "    else:\n",
    "        return letra\n",
    "\n",
    "def criptografar(texto):\n",
    "    letra_criptografada=[]\n",
    "    for letra in texto:\n",
    "        letra_criptografada.append(minuscula_Ou_Maiuscula(letra))\n",
    "    texto_criptografado = ''.join(letra_criptografada)\n",
    "    return texto_criptografado\n",
    "        \n",
    "\n",
    "#Programa Principal\n",
    "minusculas = 'abcdefghijklmnopqrstuvwxyz'\n",
    "maiusculas = minusculas.upper()\n",
    "texto = input()\n",
    "print('~'*80)\n",
    "print('Aqui está a seu texto criptografado:')\n",
    "print('~'*80)\n",
    "print(criptografar(texto))\n"
   ]
  }
 ],
 "metadata": {
  "kernelspec": {
   "display_name": "Python 3 (ipykernel)",
   "language": "python",
   "name": "python3"
  },
  "language_info": {
   "codemirror_mode": {
    "name": "ipython",
    "version": 3
   },
   "file_extension": ".py",
   "mimetype": "text/x-python",
   "name": "python",
   "nbconvert_exporter": "python",
   "pygments_lexer": "ipython3",
   "version": "3.11.5"
  }
 },
 "nbformat": 4,
 "nbformat_minor": 5
}
